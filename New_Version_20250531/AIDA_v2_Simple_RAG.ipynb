{
 "cells": [
  {
   "cell_type": "code",
   "execution_count": 16,
   "metadata": {},
   "outputs": [],
   "source": [
    "# Simple RAG System with PDF Section-Based Chunking\n",
    "\n",
    "# This notebook implements a streamlined RAG system with:\n",
    "# 1. PDF section-based chunking using tiktoken\n",
    "# 2. OpenAI embeddings\n",
    "# 3. Qdrant vector store\n",
    "# 4. Score-filtered retriever\n",
    "# 5. Simple RAG chain\n"
   ]
  },
  {
   "cell_type": "code",
   "execution_count": 17,
   "metadata": {},
   "outputs": [],
   "source": [
    "# Install required packages if needed\n",
    "# !pip install -qU langchain==0.2.14 langchain_openai==0.1.23 langchain_core==0.2.35 langchain-community\n",
    "# !pip install -qU qdrant-client pymupdf tiktoken\n"
   ]
  },
  {
   "cell_type": "code",
   "execution_count": 18,
   "metadata": {},
   "outputs": [],
   "source": [
    "import os\n",
    "import getpass\n",
    "\n",
    "# Set up OpenAI API key\n",
    "os.environ[\"OPENAI_API_KEY\"] = getpass.getpass(\"OpenAI API Key:\")\n"
   ]
  },
  {
   "cell_type": "raw",
   "metadata": {
    "vscode": {
     "languageId": "raw"
    }
   },
   "source": [
    "## 1. PDF Section-Based Chunking\n"
   ]
  },
  {
   "cell_type": "code",
   "execution_count": 22,
   "metadata": {},
   "outputs": [
    {
     "name": "stdout",
     "output_type": "stream",
     "text": [
      "🔢 Available Tiktoken Encodings:\n",
      "   cl100k_base: GPT-4, GPT-3.5-turbo, text-embedding-ada-002\n",
      "   p50k_base: text-davinci-002, text-davinci-003\n",
      "   r50k_base: GPT-3 models (davinci, curie, babbage, ada)\n",
      "   gpt2: GPT-2 models\n"
     ]
    }
   ],
   "source": [
    "# Import the PDF section chunker\n",
    "from pdf_section_chunker import chunk_northwind_pdf, get_encoding_info, TIKTOKEN_AVAILABLE\n",
    "\n",
    "# Show available encodings\n",
    "if TIKTOKEN_AVAILABLE:\n",
    "    print(\"🔢 Available Tiktoken Encodings:\")\n",
    "    for encoding, models in get_encoding_info().items():\n",
    "        print(f\"   {encoding}: {models}\")\n",
    "else:\n",
    "    print(\"⚠️ Tiktoken not available - using character-based chunking\")\n"
   ]
  },
  {
   "cell_type": "code",
   "execution_count": 23,
   "metadata": {},
   "outputs": [
    {
     "name": "stdout",
     "output_type": "stream",
     "text": [
      "🔄 Processing Northwind_Traders_Database_Overview.pdf...\n",
      "✓ Using token-based chunking with cl100k_base encoding\n",
      "✅ Created 34 intelligent chunks from the PDF\n",
      "\n",
      "📊 Chunk Statistics:\n",
      "   Character count - Min: 159, Max: 2049, Avg: 1257\n",
      "   Token count - Min: 34, Max: 396, Avg: 248\n",
      "   Chunking method: tokens\n",
      "   Encoding: cl100k_base\n"
     ]
    }
   ],
   "source": [
    "# Process the Northwind PDF with intelligent section-based chunking\n",
    "print(\"🔄 Processing Northwind_Traders_Database_Overview.pdf...\")\n",
    "\n",
    "# Create chunks using our advanced PDF section chunker\n",
    "chunks = chunk_northwind_pdf(\n",
    "    pdf_path=\"data/Northwind_Traders_Database_Overview.pdf\",\n",
    "    use_tokens=True,\n",
    "    encoding_name=\"cl100k_base\"  # Optimal for OpenAI models\n",
    ")\n",
    "\n",
    "print(f\"✅ Created {len(chunks)} intelligent chunks from the PDF\")\n",
    "\n",
    "# Display statistics\n",
    "if chunks:\n",
    "    char_counts = [chunk.metadata.get('char_count', len(chunk.content)) for chunk in chunks]\n",
    "    token_counts = [chunk.metadata.get('token_count', 0) for chunk in chunks]\n",
    "    \n",
    "    print(f\"\\n📊 Chunk Statistics:\")\n",
    "    print(f\"   Character count - Min: {min(char_counts)}, Max: {max(char_counts)}, Avg: {sum(char_counts)//len(char_counts)}\")\n",
    "    \n",
    "    if any(token_counts):\n",
    "        print(f\"   Token count - Min: {min(token_counts)}, Max: {max(token_counts)}, Avg: {sum(token_counts)//len(token_counts)}\")\n",
    "        print(f\"   Chunking method: {chunks[0].metadata.get('chunking_method', 'unknown')}\")\n",
    "        print(f\"   Encoding: {chunks[0].metadata.get('encoding', 'N/A')}\")\n"
   ]
  },
  {
   "cell_type": "raw",
   "metadata": {
    "vscode": {
     "languageId": "raw"
    }
   },
   "source": [
    "## 2. Convert to LangChain Documents\n"
   ]
  },
  {
   "cell_type": "raw",
   "metadata": {
    "vscode": {
     "languageId": "raw"
    }
   },
   "source": [
    "## 2.5. Generate Database Documents\n",
    "\n",
    "Let's also create comprehensive business documents from the Northwind database to enrich our knowledge base.\n"
   ]
  },
  {
   "cell_type": "code",
   "execution_count": 25,
   "metadata": {},
   "outputs": [
    {
     "name": "stdout",
     "output_type": "stream",
     "text": [
      "🔄 Generating comprehensive business documents from Northwind database...\n",
      "Connecting to Northwind database and generating comprehensive business documents...\n",
      "Generating customer analysis document...\n",
      "Generating customer purchasing behavior analysis...\n",
      "Generating comprehensive product analysis...\n",
      "Generating supplier analysis...\n",
      "Generating employee and territory analysis...\n",
      "Generating shipping and logistics analysis...\n",
      "Generating comprehensive financial analysis...\n",
      "Generating advanced business intelligence insights...\n",
      "Successfully created 8 comprehensive business documents from Northwind PostgreSQL database\n",
      "Total document length: 37,030 characters\n",
      "✅ Generated 8 comprehensive business documents\n",
      "📄 Total content length: 37,030 characters\n"
     ]
    }
   ],
   "source": [
    "# Import the database document creation function\n",
    "from Create_RAG_docs_from_db import create_comprehensive_northwind_business_documents\n",
    "\n",
    "# Generate comprehensive business documents from database\n",
    "print(\"🔄 Generating comprehensive business documents from Northwind database...\")\n",
    "\n",
    "try:\n",
    "    # Database connection parameters (update these with your credentials)\n",
    "    business_docs = create_comprehensive_northwind_business_documents(\n",
    "        host=\"ep-aged-leaf-a5sdyft6-pooler.us-east-2.aws.neon.tech\",\n",
    "        username=\"neondb_owner\",\n",
    "        password=\"npg_m5bUF7retyMH\", \n",
    "        database=\"neondb\",\n",
    "        schema=\"northwind\"\n",
    "    )\n",
    "    \n",
    "    print(f\"✅ Generated {len(business_docs)} comprehensive business documents\")\n",
    "    print(f\"📄 Total content length: {sum(len(doc) for doc in business_docs):,} characters\")\n",
    "    \n",
    "except Exception as e:\n",
    "    print(f\"⚠️ Could not connect to database: {e}\")\n",
    "    print(\"📝 Using empty list for business documents - PDF documents will still work\")\n",
    "    business_docs = []\n"
   ]
  },
  {
   "cell_type": "code",
   "execution_count": 26,
   "metadata": {},
   "outputs": [
    {
     "name": "stdout",
     "output_type": "stream",
     "text": [
      "📚 Converted 8 database documents to LangChain format\n",
      "📄 Sample DB metadata: {'source': 'northwind_database_customer_analysis', 'type': 'business_analysis', 'document_id': 0, 'comprehensive': True, 'data_source': 'postgresql_database', 'section_title': 'Customer Analysis', 'section_level': 1, 'char_count': 5610, 'chunk_type': 'database_generated'}\n"
     ]
    }
   ],
   "source": [
    "# Convert database documents to LangChain format\n",
    "def convert_business_docs_to_langchain(business_docs):\n",
    "    \"\"\"Convert database business documents to LangChain Document format.\"\"\"\n",
    "    langchain_docs = []\n",
    "    \n",
    "    # Document type mapping for better metadata\n",
    "    doc_types = [\n",
    "        \"customer_analysis\", \"customer_behavior\", \"product_catalog\", \n",
    "        \"supplier_analysis\", \"employee_performance\", \"shipping_logistics\",\n",
    "        \"financial_performance\", \"business_intelligence\", \"operational_efficiency\"\n",
    "    ]\n",
    "    \n",
    "    for i, doc in enumerate(business_docs):\n",
    "        # Create descriptive metadata\n",
    "        doc_type = doc_types[i] if i < len(doc_types) else f\"business_doc_{i}\"\n",
    "        \n",
    "        # Create LangChain Document\n",
    "        langchain_doc = Document(\n",
    "            page_content=doc,\n",
    "            metadata={\n",
    "                \"source\": f\"northwind_database_{doc_type}\",\n",
    "                \"type\": \"business_analysis\",\n",
    "                \"document_id\": i,\n",
    "                \"comprehensive\": True,\n",
    "                \"data_source\": \"postgresql_database\",\n",
    "                \"section_title\": doc_type.replace('_', ' ').title(),\n",
    "                \"section_level\": 1,\n",
    "                \"char_count\": len(doc),\n",
    "                \"chunk_type\": \"database_generated\"\n",
    "            }\n",
    "        )\n",
    "        langchain_docs.append(langchain_doc)\n",
    "    \n",
    "    return langchain_docs\n",
    "\n",
    "# Convert business documents to LangChain format\n",
    "db_documents = convert_business_docs_to_langchain(business_docs)\n",
    "\n",
    "print(f\"📚 Converted {len(db_documents)} database documents to LangChain format\")\n",
    "\n",
    "# Display sample metadata from database documents\n",
    "if db_documents:\n",
    "    print(f\"📄 Sample DB metadata: {db_documents[0].metadata}\")\n",
    "else:\n",
    "    print(\"📝 No database documents to convert\")\n"
   ]
  },
  {
   "cell_type": "code",
   "execution_count": 27,
   "metadata": {},
   "outputs": [
    {
     "name": "stdout",
     "output_type": "stream",
     "text": [
      "📚 Combined Documents Summary:\n",
      "   • PDF chunks: 34 documents\n",
      "   • Database docs: 8 documents\n",
      "   • Total documents: 42 documents\n",
      "📄 Sample PDF metadata: {'source': 'data/Northwind_Traders_Database_Overview.pdf', 'page': 1, 'section_title': 'Northwind Traders Database Overview', 'section_level': 1, 'char_count': 427, 'token_count': 77, 'chunking_method': 'tokens', 'encoding': 'cl100k_base', 'chunk_type': 'section', 'is_split': False}\n",
      "📄 Sample DB metadata: {'source': 'northwind_database_customer_analysis', 'type': 'business_analysis', 'document_id': 0, 'comprehensive': True, 'data_source': 'postgresql_database', 'section_title': 'Customer Analysis', 'section_level': 1, 'char_count': 5610, 'chunk_type': 'database_generated'}\n"
     ]
    }
   ],
   "source": [
    "# Convert our DocumentChunk objects to LangChain Document format\n",
    "from langchain.schema import Document\n",
    "\n",
    "def convert_chunks_to_langchain_docs(chunks):\n",
    "    \"\"\"Convert our DocumentChunk objects to LangChain Document format.\"\"\"\n",
    "    langchain_docs = []\n",
    "    \n",
    "    for chunk in chunks:\n",
    "        # Create metadata that includes all our enhanced information\n",
    "        metadata = {\n",
    "            \"source\": chunk.metadata.get('source', 'Northwind_Traders_Database_Overview.pdf'),\n",
    "            \"page\": chunk.page_number,\n",
    "            \"section_title\": chunk.title,\n",
    "            \"section_level\": chunk.section_level,\n",
    "            \"char_count\": chunk.metadata.get('char_count', len(chunk.content)),\n",
    "            \"token_count\": chunk.metadata.get('token_count', 0),\n",
    "            \"chunking_method\": chunk.metadata.get('chunking_method', 'unknown'),\n",
    "            \"encoding\": chunk.metadata.get('encoding', 'N/A'),\n",
    "            \"chunk_type\": chunk.metadata.get('chunk_type', 'section'),\n",
    "            \"is_split\": chunk.metadata.get('is_split', False)\n",
    "        }\n",
    "        \n",
    "        # Create LangChain Document\n",
    "        doc = Document(\n",
    "            page_content=chunk.content,\n",
    "            metadata=metadata\n",
    "        )\n",
    "        langchain_docs.append(doc)\n",
    "    \n",
    "    return langchain_docs\n",
    "\n",
    "# Convert our smart chunks to LangChain format\n",
    "pdf_documents = convert_chunks_to_langchain_docs(chunks)\n",
    "\n",
    "# Combine PDF and database documents\n",
    "all_documents = pdf_documents + db_documents\n",
    "\n",
    "print(f\"📚 Combined Documents Summary:\")\n",
    "print(f\"   • PDF chunks: {len(pdf_documents)} documents\")\n",
    "print(f\"   • Database docs: {len(db_documents)} documents\") \n",
    "print(f\"   • Total documents: {len(all_documents)} documents\")\n",
    "\n",
    "# Display sample metadata from both sources\n",
    "if pdf_documents:\n",
    "    print(f\"📄 Sample PDF metadata: {pdf_documents[0].metadata}\")\n",
    "if db_documents:\n",
    "    print(f\"📄 Sample DB metadata: {db_documents[0].metadata}\")\n"
   ]
  },
  {
   "cell_type": "raw",
   "metadata": {
    "vscode": {
     "languageId": "raw"
    }
   },
   "source": [
    "## 3. Create OpenAI Embeddings\n"
   ]
  },
  {
   "cell_type": "code",
   "execution_count": 28,
   "metadata": {},
   "outputs": [
    {
     "name": "stdout",
     "output_type": "stream",
     "text": [
      "✅ Initialized OpenAI embeddings model\n"
     ]
    }
   ],
   "source": [
    "# Initialize OpenAI embeddings\n",
    "from langchain_openai.embeddings import OpenAIEmbeddings\n",
    "\n",
    "embedding_model = OpenAIEmbeddings(model=\"text-embedding-3-small\")\n",
    "print(\"✅ Initialized OpenAI embeddings model\")\n"
   ]
  },
  {
   "cell_type": "raw",
   "metadata": {
    "vscode": {
     "languageId": "raw"
    }
   },
   "source": [
    "## 4. Create Qdrant Vector Store\n"
   ]
  },
  {
   "cell_type": "code",
   "execution_count": 29,
   "metadata": {},
   "outputs": [
    {
     "name": "stdout",
     "output_type": "stream",
     "text": [
      "📊 Document Processing Summary:\n",
      "   • Original documents: 42\n",
      "   • After smart splitting: 68\n",
      "✅ Created Qdrant vector store with 68 documents (PDF + Database)\n"
     ]
    }
   ],
   "source": [
    "# Create Qdrant vector store in memory with all documents\n",
    "from langchain_community.vectorstores import Qdrant\n",
    "\n",
    "# We may need to split large database documents for better retrieval\n",
    "from langchain.text_splitter import RecursiveCharacterTextSplitter\n",
    "\n",
    "# Split large database documents while keeping PDF chunks intact\n",
    "def smart_split_documents(all_documents):\n",
    "    \"\"\"Split only large database documents while preserving PDF chunks.\"\"\"\n",
    "    final_documents = []\n",
    "    \n",
    "    # Text splitter for large documents only\n",
    "    text_splitter = RecursiveCharacterTextSplitter(\n",
    "        chunk_size=1500,  # Reasonable size for database docs\n",
    "        chunk_overlap=200,\n",
    "        length_function=len,\n",
    "    )\n",
    "    \n",
    "    for doc in all_documents:\n",
    "        # If it's a large database document, split it\n",
    "        if doc.metadata.get('data_source') == 'postgresql_database' and len(doc.page_content) > 2000:\n",
    "            splits = text_splitter.split_documents([doc])\n",
    "            # Update metadata for splits\n",
    "            for i, split in enumerate(splits):\n",
    "                split.metadata.update({\n",
    "                    'split_index': i,\n",
    "                    'original_length': len(doc.page_content),\n",
    "                    'is_split': True\n",
    "                })\n",
    "            final_documents.extend(splits)\n",
    "        else:\n",
    "            # Keep PDF chunks and smaller DB docs as-is\n",
    "            final_documents.append(doc)\n",
    "    \n",
    "    return final_documents\n",
    "\n",
    "# Apply smart splitting\n",
    "processed_documents = smart_split_documents(all_documents)\n",
    "\n",
    "print(f\"📊 Document Processing Summary:\")\n",
    "print(f\"   • Original documents: {len(all_documents)}\")\n",
    "print(f\"   • After smart splitting: {len(processed_documents)}\")\n",
    "\n",
    "# Create the vector store\n",
    "qdrant_vectorstore = Qdrant.from_documents(\n",
    "    processed_documents,\n",
    "    embedding_model,\n",
    "    location=\":memory:\",\n",
    "    collection_name=\"northwind_comprehensive_data\",\n",
    ")\n",
    "\n",
    "print(f\"✅ Created Qdrant vector store with {len(processed_documents)} documents (PDF + Database)\")\n"
   ]
  },
  {
   "cell_type": "raw",
   "metadata": {
    "vscode": {
     "languageId": "raw"
    }
   },
   "source": [
    "## 5. Create Score-Filtered Retriever\n"
   ]
  },
  {
   "cell_type": "code",
   "execution_count": 30,
   "metadata": {},
   "outputs": [
    {
     "name": "stdout",
     "output_type": "stream",
     "text": [
      "✅ Created score-filtered retriever\n"
     ]
    }
   ],
   "source": [
    "# Create a simple score-filtered retriever\n",
    "from langchain.schema import BaseRetriever, Document\n",
    "from typing import List, Any\n",
    "from pydantic import Field\n",
    "\n",
    "class ScoreFilteredRetriever(BaseRetriever):\n",
    "    \"\"\"Simple retriever that filters results by similarity score.\"\"\"\n",
    "    \n",
    "    vectorstore: Any = Field()\n",
    "    score_threshold: float = Field(default=0.5)\n",
    "    k: int = Field(default=5)\n",
    "    \n",
    "    class Config:\n",
    "        arbitrary_types_allowed = True\n",
    "    \n",
    "    def _get_relevant_documents(self, query: str) -> List[Document]:\n",
    "        docs_with_scores = self.vectorstore.similarity_search_with_score(query, k=self.k)\n",
    "        \n",
    "        # Filter by score threshold\n",
    "        filtered_docs = [\n",
    "            doc for doc, score in docs_with_scores \n",
    "            if score >= self.score_threshold\n",
    "        ]\n",
    "        \n",
    "        return filtered_docs\n",
    "\n",
    "# Create the retriever\n",
    "retriever = ScoreFilteredRetriever(\n",
    "    vectorstore=qdrant_vectorstore,\n",
    "    score_threshold=0.3,\n",
    "    k=8\n",
    ")\n",
    "\n",
    "print(\"✅ Created score-filtered retriever\")\n"
   ]
  },
  {
   "cell_type": "raw",
   "metadata": {
    "vscode": {
     "languageId": "raw"
    }
   },
   "source": [
    "## 6. Create RAG Prompt\n"
   ]
  },
  {
   "cell_type": "code",
   "execution_count": 31,
   "metadata": {},
   "outputs": [
    {
     "name": "stdout",
     "output_type": "stream",
     "text": [
      "✅ Created enhanced RAG prompt template\n"
     ]
    }
   ],
   "source": [
    "# Define the enhanced RAG prompt template\n",
    "from langchain_core.prompts import ChatPromptTemplate\n",
    "\n",
    "RAG_PROMPT = \"\"\"\n",
    "CONTEXT:\n",
    "{context}\n",
    "\n",
    "QUERY:\n",
    "{question}\n",
    "\n",
    "You are a helpful assistant with access to comprehensive Northwind Traders information from both:\n",
    "1. Database Overview PDF documentation (structural information)\n",
    "2. Live database analysis reports (current business data and performance metrics)\n",
    "\n",
    "Use the provided context to answer the question thoroughly. If you can't answer the question based on the context, say you don't know. When possible, distinguish between structural/design information and actual business performance data.\n",
    "\n",
    "Answer:\n",
    "\"\"\"\n",
    "\n",
    "rag_prompt = ChatPromptTemplate.from_template(RAG_PROMPT)\n",
    "print(\"✅ Created enhanced RAG prompt template\")\n"
   ]
  },
  {
   "cell_type": "raw",
   "metadata": {
    "vscode": {
     "languageId": "raw"
    }
   },
   "source": [
    "## 7. Create RAG Chain\n"
   ]
  },
  {
   "cell_type": "code",
   "execution_count": 32,
   "metadata": {},
   "outputs": [
    {
     "name": "stdout",
     "output_type": "stream",
     "text": [
      "✅ Initialized OpenAI chat model\n"
     ]
    }
   ],
   "source": [
    "# Initialize the LLM\n",
    "from langchain_openai import ChatOpenAI\n",
    "\n",
    "llm = ChatOpenAI(model=\"gpt-4o-mini\")\n",
    "print(\"✅ Initialized OpenAI chat model\")\n"
   ]
  },
  {
   "cell_type": "code",
   "execution_count": 33,
   "metadata": {},
   "outputs": [
    {
     "name": "stdout",
     "output_type": "stream",
     "text": [
      "✅ Created RAG chain\n"
     ]
    }
   ],
   "source": [
    "# Create the RAG chain\n",
    "from operator import itemgetter\n",
    "from langchain.schema.output_parser import StrOutputParser\n",
    "\n",
    "rag_chain = (\n",
    "    {\"context\": itemgetter(\"question\") | retriever, \"question\": itemgetter(\"question\")}\n",
    "    | rag_prompt \n",
    "    | llm \n",
    "    | StrOutputParser()\n",
    ")\n",
    "\n",
    "print(\"✅ Created RAG chain\")\n"
   ]
  },
  {
   "cell_type": "raw",
   "metadata": {
    "vscode": {
     "languageId": "raw"
    }
   },
   "source": [
    "## 8. Test the RAG System\n"
   ]
  },
  {
   "cell_type": "code",
   "execution_count": 34,
   "metadata": {},
   "outputs": [
    {
     "name": "stdout",
     "output_type": "stream",
     "text": [
      "🧪 Testing Enhanced RAG System (PDF + Database):\n",
      "\n",
      "================================================================================\n",
      "\n",
      "🔍 Question 1: What are the main entities in the Northwind database?\n",
      "------------------------------------------------------------\n",
      "The main entities in the Northwind database, as per the structural information provided, include:\n",
      "\n",
      "1. **Customers**: Represents the companies or individuals who purchase products. The Customers table stores customer information such as company name, contact person, address, and other contact details.\n",
      "\n",
      "2. **Products**: Represents the items that Northwind offers for sale. The Products table includes details like product name, description, packaging, price, and stock levels.\n",
      "\n",
      "3. **Orders**: Represents customer orders. Each order links to a specific customer and employee handling the order, capturing information on order details.\n",
      "\n",
      "4. **Order Details**: Associates each order with the products sold within that order. This indicates the quantity of each product and connects to the relevant Product entry.\n",
      "\n",
      "5. **Employees**: Stores details about the staff members working for Northwind, including their roles, contact info, and hierarchy.\n",
      "\n",
      "6. **Suppliers**: Represents the vendors from whom Northwind purchases its products. The relationship between Products and Suppliers is crucial for inventory management.\n",
      "\n",
      "7. **Categories**: Used to classify products into different types or categories for easier management and organization.\n",
      "\n",
      "8. **Territories**: Defines the geographic areas in which employees can sell products. This is linked to employees through a join table that maps territories to their respective sales personnel.\n",
      "\n",
      "9. **Regions**: Groups territories into larger geographic categories, facilitating better sales management and strategy.\n",
      "\n",
      "These entities are interconnected via primary and foreign key relationships, ensuring data integrity and enabling efficient tracking of business operations. The schema supports essential business processes such as customer management, order processing, and product inventory tracking.\n",
      "\n",
      "If you need specific business performance data related to these entities, that information is not available in the context provided.\n",
      "\n",
      "📊 Retrieved 8 documents (8 PDF, 0 Database)\n",
      "\n",
      "================================================================================\n",
      "\n",
      "🔍 Question 2: Who are the top performing customers and employees?\n",
      "------------------------------------------------------------\n",
      "Based on the provided context, here are the details regarding the top performing customers and employees at Northwind Traders:\n",
      "\n",
      "**Top Performing Customers:**\n",
      "1. **QUICK-Stop (Germany)**\n",
      "   - Total Revenue: $110,277.31 across 28 orders\n",
      "   - Average Order Value: $1,282.29\n",
      "   - Active Period: 3 years\n",
      "   - Products Diversity: 49 different products\n",
      "\n",
      "2. **Ernst Handel (Austria)**\n",
      "   - Total Revenue: $104,874.98 across 30 orders\n",
      "   - Average Order Value: $1,028.19\n",
      "   - Active Period: 3 years\n",
      "   - Products Diversity: 56 different products\n",
      "\n",
      "3. **Save-a-lot Markets (USA)**\n",
      "   - Total Revenue: $104,361.95 across 31 orders\n",
      "   - Average Order Value: $899.67\n",
      "   - Active Period: 3 years\n",
      "   - Products Diversity: 53 different products\n",
      "\n",
      "**Top Performing Employees:**\n",
      "1. **Margaret Peacock - Sales Representative**\n",
      "   - Total Sales: $232,890.85 across 156 orders\n",
      "   - Customers Served: 75\n",
      "   - Average Order Value: $554.50\n",
      "   - Service Period: 32 years (hired on 1993-05-03)\n",
      "\n",
      "2. **Janet Leverling - Sales Representative**\n",
      "   - Total Sales: $202,812.84 across 127 orders\n",
      "   - Customers Served: 63\n",
      "   - Average Order Value: $631.82\n",
      "   - Service Period: 33 years (hired on 1992-04-01)\n",
      "\n",
      "3. **Nancy Davolio - Sales Representative**\n",
      "   - Total Sales: $192,107.60 across 123 orders\n",
      "   - Customers Served: 65\n",
      "   - Average Order Value: $556.83\n",
      "   - Service Period: 33 years (hired on 1992-05-01)\n",
      "\n",
      "These insights reflect the performance metrics based on current business data from Northwind Traders, highlighting the individuals and entities driving significant revenue.\n",
      "\n",
      "📊 Retrieved 8 documents (1 PDF, 7 Database)\n",
      "\n",
      "================================================================================\n",
      "\n",
      "🔍 Question 3: What are the best selling products and their suppliers?\n",
      "------------------------------------------------------------\n",
      "Based on the provided context, here are some of the best selling products from the Northwind Traders along with their suppliers:\n",
      "\n",
      "1. **Côte de Blaye (Beverages)**\n",
      "   - **Revenue:** $141,396.74 from 623 units sold\n",
      "   - **Price:** $263.50 per 12 - 75 cl bottles\n",
      "   - **Supplier:** Aux joyeux ecclésiastiques (France)\n",
      "   - **Inventory Status:** 17 in stock, 0 on order (✅ IN STOCK)\n",
      "\n",
      "2. **Alice Mutton (Meat/Poultry)** [DISCONTINUED]\n",
      "   - **Revenue:** $32,698.38 from 978 units sold\n",
      "   - **Price:** $39.00 per 20 - 1 kg tins\n",
      "   - **Supplier:** Pavlova, Ltd. (Australia)\n",
      "   - **Inventory Status:** 0 in stock, 0 on order (⚠️ LOW STOCK)\n",
      "\n",
      "3. **Carnarvon Tigers (Seafood)**\n",
      "   - **Revenue:** $29,171.87 from 539 units sold\n",
      "   - **Price:** $62.50 per 16 kg pkg.\n",
      "   - **Supplier:** Pavlova, Ltd. (Australia)\n",
      "   - **Inventory Status:** 42 in stock, 0 on order (✅ IN STOCK)\n",
      "\n",
      "4. **Rössle Sauerkraut (Produce)** [DISCONTINUED]\n",
      "   - **Revenue:** $25,696.64 from 640 units sold\n",
      "   - **Price:** $45.60 per 25 - 825 g cans\n",
      "   - **Supplier:** Plutzer Lebensmittelgroßmärkte AG (Germany)\n",
      "   - **Inventory Status:** 26 in stock, 0 on order (✅ IN STOCK)\n",
      "\n",
      "5. **Mozzarella di Giovanni (Dairy Products)**\n",
      "   - **Revenue:** $24,900.13 from 806 units sold\n",
      "   - **Price:** $34.80 per 24 - 200 g pkgs.\n",
      "   - **Supplier:** Formaggi Fortini s.r.l. (Italy)\n",
      "   - **Inventory Status:** 14 in stock, 0 on order (✅ IN STOCK)\n",
      "\n",
      "6. **Ipoh Coffee (Beverages)**\n",
      "   - **Revenue:** $23,526.70 from 580 units sold\n",
      "   - **Price:** $46.00 per 16 - 500 g tins\n",
      "   - **Supplier:** Leka Trading (Singapore)\n",
      "   - **Inventory Status:** 17 in stock, 10 on order (⚠️ LOW STOCK)\n",
      "\n",
      "7. **Sir Rodney's Marmalade (Confections)**\n",
      "   - **Revenue:** $22,563.36 from 313 units sold\n",
      "   - **Price:** $81.00 per 30 gift boxes\n",
      "   - **Supplier:** Specialty Biscuits, Ltd. (UK)\n",
      "   - **Inventory Status:** 40 in stock, 0 on order (✅ IN STOCK)\n",
      "\n",
      "These products reflect both high sales volumes and their respective suppliers, highlighting the performance of Northwind Traders within various categories. If further detail is needed, please let me know!\n",
      "\n",
      "📊 Retrieved 8 documents (1 PDF, 7 Database)\n",
      "\n",
      "================================================================================\n",
      "\n",
      "🔍 Question 4: How does the order processing system work?\n",
      "------------------------------------------------------------\n",
      "The order processing system at Northwind Traders is structured to efficiently manage customer orders from placement to fulfillment. Here's how it works, based on the provided context:\n",
      "\n",
      "### Structural/Design Information:\n",
      "\n",
      "1. **Order Creation:**\n",
      "   - When a customer places an order, an entry is added to the **Orders** table. This entry includes vital information such as:\n",
      "     - **CustomerID**: Links to the customer who placed the order.\n",
      "     - **EmployeeID**: Identifies the employee who processed the order.\n",
      "     - **Order Date**: The date the order was placed.\n",
      "     - **Required Date**: The date by which the customer requires the goods.\n",
      "     - **Shipped Date**: Initially empty, but updated once the order is shipped.\n",
      "     - **Shipping Fields**: Includes **ShipVia**, **Freight**, and shipping address details which can be edited as per customer request without altering the main customer address.\n",
      "\n",
      "2. **Order Details:**\n",
      "   - Each individual product in the order is recorded in the **Order Details** table. Each row here represents a specific product line, tied to the main order record (Orders table).\n",
      "   - The **primary key** here is a composite of **OrderID** and **ProductID**, which ensures each combination is unique. This allows for multiple products to be linked to a single order.\n",
      "   - Important fields include:\n",
      "     - **ProductID**: Identifies the specific product.\n",
      "     - **Quantity**: How many units were ordered.\n",
      "     - **Unit Price**: The price of the product at the time of the order.\n",
      "     - **Discount**: Any applicable discount.\n",
      "\n",
      "3. **Inventory Management:**\n",
      "   - Upon saving an order, the inventory levels are automatically updated, subtracting ordered quantities from the **UnitsInStock** in the **Products** table.\n",
      "   - If stock levels fall below set reorder thresholds, alerts or restock orders can be generated.\n",
      "\n",
      "4. **Shipping and Fulfillment:**\n",
      "   - The staff assigns a shipper (e.g., Speedy Express) and updates the **ShippedDate** and freight costs in the Orders table once the products are shipped.\n",
      "   - An invoice is generated, compiling customer info, order details, and totals.\n",
      "\n",
      "5. **Referential Integrity:**\n",
      "   - The database design ensures referential integrity, meaning that an entry in the Order Details table cannot exist without a valid corresponding Order and Product record.\n",
      "\n",
      "### Business Performance Insights:\n",
      "While the specific performance metrics from the live database analysis reports are not provided in the context, the structural design indicates that the system supports:\n",
      "- Efficient order tracking and fulfillment.\n",
      "- Ability to monitor inventory levels and trigger restocking as necessary.\n",
      "- Comprehensive reporting on sales performance by analyzing data from the Orders, Order Details, and Products tables.\n",
      "\n",
      "In summary, Northwind's order processing system integrates multiple components designed to streamline the order fulfillment process while simultaneously managing inventory and ensuring accurate sales records.\n",
      "\n",
      "📊 Retrieved 8 documents (8 PDF, 0 Database)\n",
      "\n",
      "================================================================================\n",
      "\n",
      "🔍 Question 5: What are the shipping and logistics insights?\n",
      "------------------------------------------------------------\n",
      "The shipping and logistics insights for Northwind Traders can be categorized into two main areas: **shipping partner performance** and **shipping destination analysis**. Here’s a detailed overview based on the provided context:\n",
      "\n",
      "### 1. Shipping Partner Performance\n",
      "Northwind Traders collaborates with several shipping partners, with key metrics indicating their performance:\n",
      "\n",
      "- **United Package**\n",
      "  - **Total Shipments:** 315 to 83 customers\n",
      "  - **Coverage:** 21 countries\n",
      "  - **Freight Revenue:** $27,556.80 (Average: $87.48 per shipment)\n",
      "  - **Delivery Performance:** Average of 9.2 days; 94.9% on-time rate\n",
      "  - **Late Deliveries:** 16 (5.1%)\n",
      "\n",
      "- **Federal Shipping**\n",
      "  - **Total Shipments:** 249 to 77 customers\n",
      "  - **Coverage:** 21 countries\n",
      "  - **Freight Revenue:** $20,363.10 (Average: $81.78 per shipment)\n",
      "  - **Delivery Performance:** Average of 7.5 days; 96.4% on-time rate\n",
      "  - **Late Deliveries:** 9 (3.6%)\n",
      "\n",
      "- **Speedy Express**\n",
      "  - **Total Shipments:** 245 to 78 customers\n",
      "  - **Coverage:** 21 countries\n",
      "  - **Freight Revenue:** $16,035.20 (Average: $65.45 per shipment)\n",
      "  - **Delivery Performance:** Average of 8.6 days; 95.1% on-time rate\n",
      "  - **Late Deliveries:** 12 (4.9%)\n",
      "\n",
      "These metrics indicate that **Federal Shipping** has the best delivery performance in terms of speed and on-time rate, followed closely by **Speedy Express** and **United Package**.\n",
      "\n",
      "### 2. Shipping Destination Analysis\n",
      "Northwind's shipment distribution highlights key destination patterns:\n",
      "\n",
      "- **Top City Destinations:**\n",
      "  - **Rio de Janeiro, Brazil:** 33 shipments, average freight: $48.47\n",
      "  - **London, UK:** 33 shipments, average freight: $64.20\n",
      "  - **Boise, USA:** 31 shipments, average freight: $215.60\n",
      "  - **Sao Paulo, Brazil:** 30 shipments, average freight: $86.54\n",
      "  - **Cunewalde, Germany:** 28 shipments, average freight: $200.20\n",
      "  \n",
      "These insights suggest that Brazil and the UK are significant markets for shipments, with Boise, USA showing a notably high average freight cost.\n",
      "\n",
      "- **Top Shipping Destinations by Country:**\n",
      "  - **Germany:** 120 shipments, average freight: $67.39\n",
      "  - **USA:** 119 shipments, average freight: $75.98\n",
      "  - **Brazil:** 81 shipments, average freight: $48.12\n",
      "  - **France:** 75 shipments, average freight: $51.00\n",
      "  - **UK:** 56 shipments, average freight: $45.62\n",
      "\n",
      "The data indicates significant shipping activity in **Germany** and the **USA**, with a diverse range of countries serviced.\n",
      "\n",
      "### Conclusion: \n",
      "Overall, Northwind's shipping logistics demonstrate effective partnerships with various carriers, balanced transport costs, and an efficient operational model that ensures timely deliveries across multiple countries. The structured data design allows for comprehensive tracking of shipping performance and costs, facilitating better decision-making in logistics management. \n",
      "\n",
      "This operational efficiency is further supported by the integration of shipping and supplier logistics within the database's architecture, enabling seamless coordination and reporting.\n",
      "\n",
      "📊 Retrieved 8 documents (4 PDF, 4 Database)\n",
      "\n",
      "================================================================================\n",
      "\n",
      "🔍 Question 6: Describe customer demographics and geographic distribution.\n",
      "------------------------------------------------------------\n",
      "Based on the provided context, here is a description of customer demographics and geographic distribution for Northwind Traders:\n",
      "\n",
      "### Customer Demographics\n",
      "While the specific demographic details of each customer are not provided in the available documents, the customer segmentation information does offer insights into customer types based on purchasing behaviors:\n",
      "\n",
      "1. **Customer Segmentation**:\n",
      "   - **Loyal Customers (39)**: This group makes up 43.8% of the customer base, spending an average of $26,415.99 across an average of 14.3 orders.\n",
      "   - **Regular Customers (34)**: Comprising 38.2% of the customer base, these customers have an average spend of $6,056.97 with around 6.6 orders.\n",
      "   - **Developing Customers (13)**: Representing 14.6% of the customer base, they spend an average of $2,129.67 across 3.5 orders.\n",
      "   - **New Customers (3)**: Accounting for 3.4% of the customer base, they show an average spend of $648.83 across 1.7 orders.\n",
      "\n",
      "This segmentation allows Northwind to tailor its marketing and sales strategies according to the spending habits and order frequencies of different groups. However, more specific demographic attributes (like age, gender, or income) are not detailed in the provided context.\n",
      "\n",
      "### Geographic Distribution\n",
      "Northwind serves **91 customers** across **21 countries** and **69 cities**. The distribution of customers by country is as follows:\n",
      "\n",
      "- **USA**: 13 customers across 12 cities\n",
      "- **Germany**: 11 customers across 11 cities\n",
      "- **France**: 11 customers across 9 cities\n",
      "- **Brazil**: 9 customers across 4 cities\n",
      "- **UK**: 7 customers across 2 cities\n",
      "- **Spain**: 5 customers across 3 cities\n",
      "- **Mexico**: 5 customers across 1 city\n",
      "- **Venezuela**: 4 customers across 4 cities\n",
      "- **Argentina**: 3 customers across 1 city\n",
      "- **Canada**: 3 customers across 3 cities\n",
      "- **Italy**: 3 customers across 3 cities\n",
      "- **Austria**: 2 customers across 2 cities\n",
      "- **Finland**: 2 customers across 2 cities\n",
      "- **Portugal**: 2 customers across 1 city\n",
      "- **Denmark**: 2 customers across 2 cities\n",
      "\n",
      "The **USA** stands out as the top market, contributing a significant portion of overall revenue, which indicates a focus for both sales and marketing efforts.\n",
      "\n",
      "### Summary\n",
      "In summary, Northwind's customer demographics indicate varying levels of loyalty and spending power across different segments, while its customer base exhibits a widespread geographic distribution primarily concentrated within North America and Europe. This information can help guide Northwind's strategic planning in marketing, sales, and regional management efforts.\n",
      "\n",
      "📊 Retrieved 8 documents (3 PDF, 5 Database)\n",
      "\n",
      "================================================================================\n",
      "\n",
      "🔍 Question 7: What inventory management challenges does Northwind face?\n",
      "------------------------------------------------------------\n",
      "Based on the information available in the provided context, Northwind faces several inventory management challenges related to its operational design and data handling. Here are the key challenges:\n",
      "\n",
      "1. **Stock Level Monitoring**: The design includes fields like `UnitsInStock`, `UnitsOnOrder`, and `ReorderLevel`, which are crucial for tracking inventory levels. However, the challenge lies in ensuring that this information is always up to date and adequately reflects real-time stock situations. If the data is not frequently updated (especially after orders are placed), the company may face stockouts or overstock issues.\n",
      "\n",
      "2. **Reordering Efficiency**: Northwind relies on a structured process for reordering stock. Each product is linked to a supplier, and the management has to effectively monitor inventory levels to trigger reorder processes when stock reaches the specified reorder level. The challenge is maintaining a responsive system that alerts managers in a timely manner about the need to reorder products, like in the case of the 'Chang' beer example, where stock fell to zero before reordering could take place.\n",
      "\n",
      "3. **Integration of Sales and Inventory Data**: The schema connects inventory levels with sales data, as recorded in the Order Details table. However, if there are discrepancies between sales reporting and inventory updates, it could lead to inaccuracies in stock levels. For instance, delayed inventory updates post-order fulfillment could mean that inventory records do not accurately reflect sales, which may result in improper stock management.\n",
      "\n",
      "4. **Reporting and Alerts**: While the schema allows for programming alerts for restocking products, the challenge lies in executing these effectively. If alerts are not well configured or if the reports generated are not accessible or actionable, some products may go unnoticed, leading to potential lost sales.\n",
      "\n",
      "5. **Supplier Relationship Management**: Keeping track of suppliers and their lead times for replenishment is crucial. Although the schema provides tools to manage suppliers, the operational challenge is ensuring that suppliers can meet the required delivery timelines, which affects how quickly stock can be replenished.\n",
      "\n",
      "6. **Handling Backorders**: Managing backorders becomes a challenge if the system does not effectively capture and track items that go out of stock while there are existing orders for them. The data fields and reporting mechanisms must effectively convey this status to prevent mismanagement of customer expectations and inventory fulfillment.\n",
      "\n",
      "In summary, while Northwind’s database schema allows for organized inventory tracking, challenges persist in ensuring real-time data accuracy, efficient reordering processes, integration of sales and inventory data, alert systems, supplier management, and backorder handling. The success of inventory management lies in the seamless execution of these processes and how well the data supports them.\n",
      "\n",
      "📊 Retrieved 8 documents (8 PDF, 0 Database)\n"
     ]
    }
   ],
   "source": [
    "# Test the enhanced RAG system with comprehensive questions\n",
    "test_questions = [\n",
    "    \"What are the main entities in the Northwind database?\",\n",
    "    \"Who are the top performing customers and employees?\", \n",
    "    \"What are the best selling products and their suppliers?\",\n",
    "    \"How does the order processing system work?\",\n",
    "    \"What are the shipping and logistics insights?\",\n",
    "    \"Describe customer demographics and geographic distribution.\",\n",
    "    \"What inventory management challenges does Northwind face?\"\n",
    "]\n",
    "\n",
    "print(\"🧪 Testing Enhanced RAG System (PDF + Database):\\n\")\n",
    "print(\"=\" * 80)\n",
    "\n",
    "for i, question in enumerate(test_questions, 1):\n",
    "    print(f\"\\n🔍 Question {i}: {question}\")\n",
    "    print(\"-\" * 60)\n",
    "    \n",
    "    # Get response\n",
    "    response = rag_chain.invoke({\"question\": question})\n",
    "    print(response)\n",
    "    \n",
    "    # Show retrieved documents info and sources\n",
    "    docs = retriever.invoke(question)\n",
    "    pdf_docs = sum(1 for doc in docs if doc.metadata.get('data_source') != 'postgresql_database')\n",
    "    db_docs = sum(1 for doc in docs if doc.metadata.get('data_source') == 'postgresql_database')\n",
    "    \n",
    "    print(f\"\\n📊 Retrieved {len(docs)} documents ({pdf_docs} PDF, {db_docs} Database)\")\n",
    "    \n",
    "    if i < len(test_questions):\n",
    "        print(\"\\n\" + \"=\" * 80)\n"
   ]
  },
  {
   "cell_type": "raw",
   "metadata": {
    "vscode": {
     "languageId": "raw"
    }
   },
   "source": [
    "## 9. Interactive Q&A\n"
   ]
  },
  {
   "cell_type": "code",
   "execution_count": 35,
   "metadata": {},
   "outputs": [],
   "source": [
    "# Interactive question-answering function\n",
    "def ask_question(question: str):\n",
    "    \"\"\"Ask a question and get an answer from the RAG system.\"\"\"\n",
    "    print(f\"🔍 Question: {question}\")\n",
    "    print(\"-\" * 60)\n",
    "    \n",
    "    # Get response\n",
    "    response = rag_chain.invoke({\"question\": question})\n",
    "    print(f\"🤖 Answer: {response}\")\n",
    "    \n",
    "    # Show retrieved documents\n",
    "    docs = retriever.invoke(question)\n",
    "    print(f\"\\n📚 Used {len(docs)} source documents for context\")\n",
    "    \n",
    "    return response\n",
    "\n",
    "# Example usage:\n",
    "# ask_question(\"Who are the employees mentioned in the Northwind database?\")\n"
   ]
  },
  {
   "cell_type": "code",
   "execution_count": 15,
   "metadata": {},
   "outputs": [
    {
     "name": "stdout",
     "output_type": "stream",
     "text": [
      "🔍 Question: Who are the employees mentioned in the Northwind database?\n",
      "------------------------------------------------------------\n",
      "🤖 Answer: The context does not provide specific names of employees in the Northwind database. It discusses employee roles and organizational structure but does not list any individual employees. Therefore, I don't know the names of the employees mentioned in the Northwind database.\n",
      "\n",
      "📚 Used 8 source documents for context\n"
     ]
    },
    {
     "data": {
      "text/plain": [
       "\"The context does not provide specific names of employees in the Northwind database. It discusses employee roles and organizational structure but does not list any individual employees. Therefore, I don't know the names of the employees mentioned in the Northwind database.\""
      ]
     },
     "execution_count": 15,
     "metadata": {},
     "output_type": "execute_result"
    }
   ],
   "source": [
    "ask_question(\"Who are the employees mentioned in the Northwind database?\")"
   ]
  },
  {
   "cell_type": "raw",
   "metadata": {
    "vscode": {
     "languageId": "raw"
    }
   },
   "source": [
    "## Enhanced System Summary\n",
    "\n",
    "This comprehensive RAG system provides:\n",
    "\n",
    "### ✅ **Core Features**\n",
    "- **Smart PDF Chunking**: Section-based chunking with tiktoken token counting\n",
    "- **Database Integration**: Live business analysis from PostgreSQL database\n",
    "- **Dual Knowledge Sources**: PDF documentation + real business data\n",
    "- **High-Quality Embeddings**: OpenAI text-embedding-3-small model\n",
    "- **Intelligent Storage**: Qdrant vector store with smart document splitting\n",
    "- **Filtered Retrieval**: Score-based document filtering for relevance\n",
    "- **Enhanced RAG Chain**: Multi-source prompt → LLM → response pipeline\n",
    "\n",
    "### 🎯 **Key Benefits**\n",
    "- **Comprehensive Knowledge**: Combines structural docs + live business data\n",
    "- **Token-Optimized**: Precise token counting for embedding model compatibility\n",
    "- **Structure-Preserving**: Maintains PDF section hierarchy in chunks\n",
    "- **Current Business Insights**: Real customer, product, and performance data\n",
    "- **Smart Document Handling**: Automatic splitting of large database reports\n",
    "- **Fast & Reliable**: Simple architecture with proven components\n",
    "- **Easy to Use**: Straightforward interface for comprehensive Q&A\n",
    "\n",
    "### 📊 **Data Sources**\n",
    "1. **PDF Documentation**: Database structure, relationships, and design\n",
    "2. **Database Reports**: Live customer analysis, product performance, employee metrics, supplier data, shipping insights, and financial performance\n",
    "\n",
    "### 🚀 **Usage**\n",
    "```python\n",
    "# Ask any question about Northwind structure OR business performance\n",
    "response = rag_chain.invoke({\"question\": \"Your question here\"})\n",
    "print(response)\n",
    "\n",
    "# Examples:\n",
    "# - \"What are the database entities?\" (PDF source)\n",
    "# - \"Who are the top customers?\" (Database source)  \n",
    "# - \"How does order processing work?\" (Both sources)\n",
    "```\n"
   ]
  }
 ],
 "metadata": {
  "kernelspec": {
   "display_name": ".venv",
   "language": "python",
   "name": "python3"
  },
  "language_info": {
   "codemirror_mode": {
    "name": "ipython",
    "version": 3
   },
   "file_extension": ".py",
   "mimetype": "text/x-python",
   "name": "python",
   "nbconvert_exporter": "python",
   "pygments_lexer": "ipython3",
   "version": "3.13.2"
  }
 },
 "nbformat": 4,
 "nbformat_minor": 4
}
